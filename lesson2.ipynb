{
 "cells": [
  {
   "cell_type": "code",
   "execution_count": 9,
   "metadata": {},
   "outputs": [
    {
     "name": "stdout",
     "output_type": "stream",
     "text": [
      "d861dbbff3437729d2c420bf3cd2eed1\n"
     ]
    }
   ],
   "source": [
    "import private\n",
    "print(private.secret.open_weather_key)"
   ]
  },
  {
   "cell_type": "code",
   "execution_count": 10,
   "metadata": {},
   "outputs": [
    {
     "data": {
      "text/plain": [
       "'https://api.openweathermap.org/data/2.5/forecast?q=Hualien,tw&APPID=d861dbbff3437729d2c420bf3cd2eed1&lang=zh_tw&units=metric'"
      ]
     },
     "execution_count": 10,
     "metadata": {},
     "output_type": "execute_result"
    }
   ],
   "source": [
    "api_key =private.secret.open_weather_key\n",
    "url = f\"https://api.openweathermap.org/data/2.5/forecast?q=Hualien,tw&APPID={api_key}&lang=zh_tw&units=metric\"\n",
    "url"
   ]
  },
  {
   "cell_type": "code",
   "execution_count": 11,
   "metadata": {},
   "outputs": [
    {
     "name": "stdout",
     "output_type": "stream",
     "text": [
      "下載成功\n"
     ]
    }
   ],
   "source": [
    "import requests\n",
    "response = requests.get(url)\n",
    "if response.ok:\n",
    "    print(\"下載成功\")\n",
    "    "
   ]
  },
  {
   "cell_type": "code",
   "execution_count": null,
   "metadata": {},
   "outputs": [],
   "source": [
    "tw_county_names = {\"台北\":\"Taipei\",\n",
    "                   \"台中\":\"Taichung\",\n",
    "                   \"基隆\":\"Keelung\",\n",
    "                   \"台南\":\"Tainan\",\n",
    "                   \"高雄\":\"Kaohsiung\",\n",
    "                   \"新北\":\"New Taipei\",\n",
    "                   \"宜蘭\":\"Yilan\",\n",
    "                   \"桃園\":\"Taoyuan\",\n",
    "                   \"嘉義\":\"Chiayi\",\n",
    "                   \"新竹\":\"Hsinchu\",\n",
    "                   \"苗栗\":\"Miaoli\",\n",
    "                   \"南投\":\"Nantou\",\n",
    "                   \"彰化\":\"Changhua\",\n",
    "                   \"雲林\":\"Yunlin\",\n",
    "                   \"屏東\":\"Pingtung\",\n",
    "                   \"花蓮\":\"Hualien\",\n",
    "                   \"台東\":\"Taitung\",\n",
    "                   \"金門\":\"Kinmen\",\n",
    "                   \"澎湖\":\"Penghu\",\n",
    "                   \"連江\":\"Lienchiang\"\n",
    "                   }"
   ]
  },
  {
   "cell_type": "code",
   "execution_count": 15,
   "metadata": {},
   "outputs": [
    {
     "name": "stdout",
     "output_type": "stream",
     "text": [
      "下載成功\n",
      "{'id': 1674502, 'name': 'Hualien', 'coord': {'lat': 23.7817, 'lon': 121.3933}, 'country': 'TW', 'population': 0, 'timezone': 28800, 'sunrise': 1670279003, 'sunset': 1670317648}\n"
     ]
    }
   ],
   "source": [
    "import requests\n",
    "response = requests.get(url)\n",
    "if response.ok:\n",
    "    print(\"下載成功\")\n",
    "    allData=(response.json())\n",
    "    city =allData['city']\n",
    "    print(city)\n",
    "    \n",
    "    \n"
   ]
  }
 ],
 "metadata": {
  "kernelspec": {
   "display_name": "Python 3.10.8 ('venv07')",
   "language": "python",
   "name": "python3"
  },
  "language_info": {
   "codemirror_mode": {
    "name": "ipython",
    "version": 3
   },
   "file_extension": ".py",
   "mimetype": "text/x-python",
   "name": "python",
   "nbconvert_exporter": "python",
   "pygments_lexer": "ipython3",
   "version": "3.10.8"
  },
  "orig_nbformat": 4,
  "vscode": {
   "interpreter": {
    "hash": "96389ca6e901dc5caa309da39b4e25bdddffcdc69a019d3b4b12e9c2b7e67193"
   }
  }
 },
 "nbformat": 4,
 "nbformat_minor": 2
}
